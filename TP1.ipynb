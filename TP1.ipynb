{
 "cells": [
  {
   "cell_type": "markdown",
   "metadata": {},
   "source": [
    "# TP 1 - DEVOPS\n"
   ]
  },
  {
   "cell_type": "code",
   "execution_count": 2,
   "metadata": {},
   "outputs": [],
   "source": [
    "# importing requests and json\n",
    "from dotenv import load_dotenv\n",
    "from sys import argv\n",
    "import requests\n",
    "import os"
   ]
  },
  {
   "cell_type": "code",
   "execution_count": 3,
   "metadata": {},
   "outputs": [
    {
     "name": "stdout",
     "output_type": "stream",
     "text": [
      "2dfa94c9024d82a8e347b45f42d98a88\n",
      "City: Zocca\n",
      "Temperature: 286.84\n",
      "Temperature Min: 282.38\n",
      "Temperature Max: 289.31\n",
      "Humidity: 57\n",
      "Pressure: 1019\n",
      "Weather Report: overcast clouds\n"
     ]
    }
   ],
   "source": [
    "load = load_dotenv()\n",
    "\n",
    "API_KEY = os.getenv('API_KEY')\n",
    "print(API_KEY)\n",
    "\n",
    "# base URL\n",
    "BASE_URL = \"https://api.openweathermap.org/data/2.5/weather?\"\n",
    "# API key \n",
    "# API_KEY = \"2dfa94c9024d82a8e347b45f42d98a88\"\n",
    "# latitude and longitude\n",
    "LAT = \"44.34\"\n",
    "LONG = \"10.99\"\n",
    "# upadting the URL\n",
    "URL = BASE_URL + \"lat=\" + LAT + \"&lon=\"+ LONG + \"&appid=\" + API_KEY\n",
    "# HTTP request\n",
    "response = requests.get(URL)\n",
    "# checking the status code of the request\n",
    "if response.status_code == 200:\n",
    "   # getting data in the json format\n",
    "   data = response.json()\n",
    "   # getting the main dict block\n",
    "   main = data['main']\n",
    "   # getting temperature\n",
    "   city = data['name']\n",
    "   temperature = main['temp']\n",
    "   feels_like = main['feels_like']\n",
    "   temp_min = main['temp_min']\n",
    "   temp_max = main['temp_max']\n",
    "   humidity = main['humidity']\n",
    "   pressure = main['pressure']\n",
    "   report = data['weather']\n",
    "\n",
    "   print(f\"City: {city}\")\n",
    "   print(f\"Temperature: {temperature}\")\n",
    "   print(f\"Temperature Min: {temp_min}\")\n",
    "   print(f\"Temperature Max: {temp_max}\")\n",
    "   print(f\"Humidity: {humidity}\")\n",
    "   print(f\"Pressure: {pressure}\")\n",
    "   print(f\"Weather Report: {report[0]['description']}\")\n",
    "else:\n",
    "   # showing the error message\n",
    "   print(\"Error in the HTTP request\")"
   ]
  },
  {
   "cell_type": "markdown",
   "metadata": {},
   "source": [
    "### Les commandes\n",
    "- Installation de la bibliothèque `python-dotenv` pour utiliser des variables d'enrvironnement (secret)\n",
    "    - `pip3 install python-dotenv`\n",
    "- Pour construre l'image docker avec le nom weather et le tag 0.0.1\n",
    "    - `docker build . -t weather:0.0.1`\n",
    "- Pour éxécuter faire tourner l'imager docker en local\n",
    "    - `docker run --env LAT=\"31.2504\" --env LONG=\"-99.2506\" --env API_KEY=2dfa94c9024d82a8e347b45f42d98a88  weather:0.0.1`\n",
    "- Création du tag sur docker hub\n",
    "    - `docker tag weather:0.0.1 anicetdevops/weather:0.0.1`\n",
    "- Récupération de l'image courante (si nécessaire)\n",
    "    - `docker pull anicetdevops/weather:0.0.1`\n",
    "- Connexion à DockerHub\n",
    "    - `docker login -u anicetdevops`\n",
    "- Envoie de l'image de sur docker hub\n",
    "    - `docker push anicetdevops/weather:0.0.1`\n",
    "\n",
    "- Checher les erreurs et eventuels warnings dans le Dockerfile\n",
    "    - `docker run --rm -i hadolint/hadolint < Dockerfile`\n",
    "    - `--no-cache-di` : permet d'effacer le cache des dossiers des bibliothèques installées\n",
    "    - `requests==2.28.2` : permet de préciser la version de la bibliothèque à installer\n",
    "\n"
   ]
  }
 ],
 "metadata": {
  "kernelspec": {
   "display_name": "Python 3.11.0 64-bit",
   "language": "python",
   "name": "python3"
  },
  "language_info": {
   "codemirror_mode": {
    "name": "ipython",
    "version": 3
   },
   "file_extension": ".py",
   "mimetype": "text/x-python",
   "name": "python",
   "nbconvert_exporter": "python",
   "pygments_lexer": "ipython3",
   "version": "3.11.0"
  },
  "orig_nbformat": 4,
  "vscode": {
   "interpreter": {
    "hash": "aee8b7b246df8f9039afb4144a1f6fd8d2ca17a180786b69acc140d282b71a49"
   }
  }
 },
 "nbformat": 4,
 "nbformat_minor": 2
}
